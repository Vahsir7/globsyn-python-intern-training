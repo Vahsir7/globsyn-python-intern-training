{
 "cells": [
  {
   "cell_type": "markdown",
   "id": "6e07213d",
   "metadata": {},
   "source": [
    "# NUMPY ARRAYS"
   ]
  },
  {
   "cell_type": "code",
   "execution_count": 2,
   "id": "b16ec0e1-dc8f-47b9-ba62-f7ba0689ebb5",
   "metadata": {},
   "outputs": [],
   "source": [
    "import numpy as np"
   ]
  },
  {
   "cell_type": "markdown",
   "id": "27429bdc-5d6a-445c-bb29-b787e763a7ab",
   "metadata": {},
   "source": [
    "By convention, w'll find that most people in the SciPy/PyData world will\n",
    "import NumPy using np as an alias:"
   ]
  },
  {
   "cell_type": "code",
   "execution_count": 3,
   "id": "6d829d8a-9f9a-4205-b9be-17d8b51fa304",
   "metadata": {},
   "outputs": [
    {
     "data": {
      "text/plain": [
       "array([1, 2, 3, 4, 5])"
      ]
     },
     "execution_count": 3,
     "metadata": {},
     "output_type": "execute_result"
    }
   ],
   "source": [
    "arr = np.array([1,2,3,4,5]) #to create an array from python list.\n",
    "arr #1D array"
   ]
  },
  {
   "cell_type": "code",
   "execution_count": 4,
   "id": "70d70669-12c6-40c1-855e-ce8110d3ad97",
   "metadata": {},
   "outputs": [
    {
     "data": {
      "text/plain": [
       "array([1. , 2. , 3. , 4.5, 6. , 8.9])"
      ]
     },
     "execution_count": 4,
     "metadata": {},
     "output_type": "execute_result"
    }
   ],
   "source": [
    "lst = [1,2,3,4.5,6,8.9]\n",
    "b = np.array(lst)\n",
    "b"
   ]
  },
  {
   "cell_type": "markdown",
   "id": "ca782af1-d739-4829-967c-1d7ac7f9e092",
   "metadata": {},
   "source": [
    "Its important to note that unlike Python lists, NumPy arrays can only contain data of the same\n",
    "type. If the types do not match, NumPy will upcast them according to its type promo‐\n",
    "tion rules; here, integers are upcast to floating point"
   ]
  },
  {
   "cell_type": "markdown",
   "id": "70bdcfb4",
   "metadata": {},
   "source": [
    "Finally, unlike Python lists, which are always one-dimensional sequences, NumPy\n",
    "arrays can be multidimensional. Here’s one way of initializing a multidimensional\n",
    "array using a list of lists"
   ]
  },
  {
   "cell_type": "code",
   "execution_count": 5,
   "id": "0f41643b-61a9-4e08-9216-6c16886a9444",
   "metadata": {},
   "outputs": [
    {
     "data": {
      "text/plain": [
       "array([[1, 2, 3],\n",
       "       [4, 5, 6]])"
      ]
     },
     "execution_count": 5,
     "metadata": {},
     "output_type": "execute_result"
    }
   ],
   "source": [
    "a = np.array([[1,2,3],[4,5,6]])\n",
    "a #2D array"
   ]
  },
  {
   "cell_type": "code",
   "execution_count": 6,
   "id": "8c6decae-3f3c-48be-9985-e491ac9dc869",
   "metadata": {},
   "outputs": [
    {
     "data": {
      "text/plain": [
       "array([[1, 2, 3],\n",
       "       [4, 5, 6],\n",
       "       [7, 8, 9]])"
      ]
     },
     "execution_count": 6,
     "metadata": {},
     "output_type": "execute_result"
    }
   ],
   "source": [
    "np.array([range(i,i+3) for i in [1,4,7]]) #nested list to create 2D array"
   ]
  },
  {
   "cell_type": "code",
   "execution_count": 7,
   "id": "41a6df46",
   "metadata": {},
   "outputs": [
    {
     "name": "stdout",
     "output_type": "stream",
     "text": [
      "(2, 3)\n",
      "2\n",
      "(5,)\n",
      "1\n"
     ]
    }
   ],
   "source": [
    "print(a.shape)\n",
    "print(a.ndim)\n",
    "print(arr.shape)\n",
    "print(arr.ndim)"
   ]
  },
  {
   "cell_type": "markdown",
   "id": "1a4251ce",
   "metadata": {},
   "source": [
    ".shape -> order of array in (n,m) fashion\n",
    ".ndim -> dimension of the np array"
   ]
  },
  {
   "cell_type": "code",
   "execution_count": 8,
   "id": "cb647c21",
   "metadata": {},
   "outputs": [
    {
     "name": "stdout",
     "output_type": "stream",
     "text": [
      "float64\n",
      "int32\n",
      "<class 'numpy.ndarray'>\n"
     ]
    }
   ],
   "source": [
    "print(b.dtype)\n",
    "print(arr.dtype)\n",
    "print(type(b))"
   ]
  },
  {
   "cell_type": "markdown",
   "id": "bbe3efb3",
   "metadata": {},
   "source": [
    ".dtype -> returns the data type of the array contents\n",
    "type -> returns the class type"
   ]
  },
  {
   "cell_type": "markdown",
   "id": "16e8726b",
   "metadata": {},
   "source": [
    "np.arange(x,y,z)-> elements from x to y-1 with or without step z"
   ]
  },
  {
   "cell_type": "code",
   "execution_count": 9,
   "id": "41c6c704",
   "metadata": {},
   "outputs": [
    {
     "data": {
      "text/plain": [
       "array([ 1,  2,  3,  4,  5,  6,  7,  8,  9, 10])"
      ]
     },
     "execution_count": 9,
     "metadata": {},
     "output_type": "execute_result"
    }
   ],
   "source": [
    "np.arange(1,11)"
   ]
  },
  {
   "cell_type": "markdown",
   "id": "dc952d94",
   "metadata": {},
   "source": [
    "array.reshape(order)-> to give order or new shape to arrays"
   ]
  },
  {
   "cell_type": "code",
   "execution_count": 10,
   "id": "1c1802fd",
   "metadata": {},
   "outputs": [
    {
     "data": {
      "text/plain": [
       "array([[0, 1, 2],\n",
       "       [3, 4, 5],\n",
       "       [6, 7, 8]])"
      ]
     },
     "execution_count": 10,
     "metadata": {},
     "output_type": "execute_result"
    }
   ],
   "source": [
    "np.arange(9).reshape(3,3)"
   ]
  },
  {
   "cell_type": "markdown",
   "id": "149b7d1c",
   "metadata": {},
   "source": [
    "## ARRAY BUILDER FUNCTIONS"
   ]
  },
  {
   "cell_type": "markdown",
   "id": "d6ba4e2c",
   "metadata": {},
   "source": [
    "#### np.zeros((shape),dtype) -> creates a zero matrix of desired shape ####"
   ]
  },
  {
   "cell_type": "code",
   "execution_count": 11,
   "id": "a3af9963",
   "metadata": {},
   "outputs": [
    {
     "data": {
      "text/plain": [
       "array([[0, 0, 0],\n",
       "       [0, 0, 0],\n",
       "       [0, 0, 0],\n",
       "       [0, 0, 0]])"
      ]
     },
     "execution_count": 11,
     "metadata": {},
     "output_type": "execute_result"
    }
   ],
   "source": [
    "np.zeros((4,3),dtype=int)"
   ]
  },
  {
   "cell_type": "markdown",
   "id": "018b7712",
   "metadata": {},
   "source": [
    "#### np.ones((shape),dtype) -> creates a one matrix of desired shape ####"
   ]
  },
  {
   "cell_type": "code",
   "execution_count": 12,
   "id": "30494f1a",
   "metadata": {},
   "outputs": [
    {
     "data": {
      "text/plain": [
       "array([[1, 1, 1],\n",
       "       [1, 1, 1],\n",
       "       [1, 1, 1]])"
      ]
     },
     "execution_count": 12,
     "metadata": {},
     "output_type": "execute_result"
    }
   ],
   "source": [
    "np.ones((3,3), dtype=int)"
   ]
  },
  {
   "cell_type": "markdown",
   "id": "c09e6ce1",
   "metadata": {},
   "source": [
    "#### np.eye(n,m,k,dtype)->creates identity matrix of desired MXN order, k value determines the diagonal offset ####\n"
   ]
  },
  {
   "cell_type": "code",
   "execution_count": 13,
   "id": "4363fa28",
   "metadata": {},
   "outputs": [
    {
     "data": {
      "text/plain": [
       "array([[1, 0, 0, 0],\n",
       "       [0, 1, 0, 0],\n",
       "       [0, 0, 1, 0],\n",
       "       [0, 0, 0, 1],\n",
       "       [0, 0, 0, 0]])"
      ]
     },
     "execution_count": 13,
     "metadata": {},
     "output_type": "execute_result"
    }
   ],
   "source": [
    "np.eye(5,4,dtype=int)"
   ]
  },
  {
   "cell_type": "code",
   "execution_count": 14,
   "id": "b5daece6",
   "metadata": {},
   "outputs": [
    {
     "data": {
      "text/plain": [
       "array([[0, 0, 1, 0, 0],\n",
       "       [0, 0, 0, 1, 0],\n",
       "       [0, 0, 0, 0, 1],\n",
       "       [0, 0, 0, 0, 0],\n",
       "       [0, 0, 0, 0, 0]])"
      ]
     },
     "execution_count": 14,
     "metadata": {},
     "output_type": "execute_result"
    }
   ],
   "source": [
    "np.eye(5,5,k=2,dtype=int)"
   ]
  },
  {
   "cell_type": "code",
   "execution_count": 15,
   "id": "6d987b2e",
   "metadata": {},
   "outputs": [
    {
     "data": {
      "text/plain": [
       "array([[0, 0, 0, 0, 0],\n",
       "       [1, 0, 0, 0, 0],\n",
       "       [0, 1, 0, 0, 0],\n",
       "       [0, 0, 1, 0, 0]])"
      ]
     },
     "execution_count": 15,
     "metadata": {},
     "output_type": "execute_result"
    }
   ],
   "source": [
    "np.eye(4,5,k=-1,dtype=int)"
   ]
  },
  {
   "cell_type": "markdown",
   "id": "a7f0a2c3",
   "metadata": {},
   "source": [
    "#### np.full((shape),value) -> makes a matrix of desired shape with desired values ####"
   ]
  },
  {
   "cell_type": "code",
   "execution_count": 16,
   "id": "0994804e",
   "metadata": {},
   "outputs": [
    {
     "data": {
      "text/plain": [
       "array([[1.2, 1.2, 1.2, 1.2],\n",
       "       [1.2, 1.2, 1.2, 1.2],\n",
       "       [1.2, 1.2, 1.2, 1.2]])"
      ]
     },
     "execution_count": 16,
     "metadata": {},
     "output_type": "execute_result"
    }
   ],
   "source": [
    "np.full((3,4),1.2)"
   ]
  },
  {
   "cell_type": "markdown",
   "id": "bf95b207",
   "metadata": {},
   "source": [
    "#### np.empty((shape))-> creates a empty matrix with garbage value"
   ]
  },
  {
   "cell_type": "code",
   "execution_count": 17,
   "id": "a3b0f9b8",
   "metadata": {},
   "outputs": [
    {
     "data": {
      "text/plain": [
       "array([[6.23042070e-307, 4.67296746e-307],\n",
       "       [1.69121096e-306, 1.60218491e-306]])"
      ]
     },
     "execution_count": 17,
     "metadata": {},
     "output_type": "execute_result"
    }
   ],
   "source": [
    "np.empty((2,2))"
   ]
  },
  {
   "cell_type": "markdown",
   "id": "ce922380",
   "metadata": {},
   "source": [
    "## ARRAY OPERATIONS"
   ]
  },
  {
   "cell_type": "markdown",
   "id": "eb2d59a0",
   "metadata": {},
   "source": [
    "### Diagonals"
   ]
  },
  {
   "cell_type": "code",
   "execution_count": 18,
   "id": "3cbbd891",
   "metadata": {},
   "outputs": [
    {
     "data": {
      "text/plain": [
       "array([[ 0,  1,  2],\n",
       "       [ 3,  4,  5],\n",
       "       [ 6,  7,  8],\n",
       "       [ 9, 10, 11]])"
      ]
     },
     "execution_count": 18,
     "metadata": {},
     "output_type": "execute_result"
    }
   ],
   "source": [
    "a1 = np.arange(12).reshape(4,-1)\n",
    "a1"
   ]
  },
  {
   "cell_type": "markdown",
   "id": "7089e00d",
   "metadata": {},
   "source": [
    "diag -> gives diagonal of the matrix and k value is taken as offset position "
   ]
  },
  {
   "cell_type": "code",
   "execution_count": 19,
   "id": "8b0cb9d6",
   "metadata": {},
   "outputs": [
    {
     "name": "stdout",
     "output_type": "stream",
     "text": [
      "[0 4 8]\n",
      "[ 3  7 11]\n",
      "[1 5]\n"
     ]
    }
   ],
   "source": [
    "print(np.diag(a1))\n",
    "print(np.diag(a1,k=-1))\n",
    "print(np.diag(a1,k=1)) "
   ]
  },
  {
   "cell_type": "markdown",
   "id": "17e9404d",
   "metadata": {},
   "source": [
    "### flipping"
   ]
  },
  {
   "cell_type": "code",
   "execution_count": 20,
   "id": "6d04de08",
   "metadata": {},
   "outputs": [
    {
     "data": {
      "text/plain": [
       "array([[11, 10,  9],\n",
       "       [ 8,  7,  6],\n",
       "       [ 5,  4,  3],\n",
       "       [ 2,  1,  0]])"
      ]
     },
     "execution_count": 20,
     "metadata": {},
     "output_type": "execute_result"
    }
   ],
   "source": [
    "np.flip(a1)"
   ]
  },
  {
   "cell_type": "markdown",
   "id": "80ed78d2",
   "metadata": {},
   "source": [
    "flip -> first flips along left right direction then flips along up down direction"
   ]
  },
  {
   "cell_type": "code",
   "execution_count": 21,
   "id": "530eeb29",
   "metadata": {},
   "outputs": [
    {
     "name": "stdout",
     "output_type": "stream",
     "text": [
      "[[ 9 10 11]\n",
      " [ 6  7  8]\n",
      " [ 3  4  5]\n",
      " [ 0  1  2]]\n",
      "\n",
      "\n",
      "[[ 2  1  0]\n",
      " [ 5  4  3]\n",
      " [ 8  7  6]\n",
      " [11 10  9]]\n"
     ]
    }
   ],
   "source": [
    "print(np.flip(a1,axis=0)) #along rows\n",
    "print(\"\\n\")\n",
    "print(np.flip(a1,axis=1)) #along columns"
   ]
  },
  {
   "cell_type": "code",
   "execution_count": 22,
   "id": "e3837059",
   "metadata": {},
   "outputs": [
    {
     "data": {
      "text/plain": [
       "array([[ 2,  1,  0],\n",
       "       [ 5,  4,  3],\n",
       "       [ 8,  7,  6],\n",
       "       [11, 10,  9]])"
      ]
     },
     "execution_count": 22,
     "metadata": {},
     "output_type": "execute_result"
    }
   ],
   "source": [
    "np.fliplr(a1)#flip the matrix along left right direction axis=1"
   ]
  },
  {
   "cell_type": "code",
   "execution_count": 23,
   "id": "0fc9710b",
   "metadata": {},
   "outputs": [
    {
     "data": {
      "text/plain": [
       "array([[ 9, 10, 11],\n",
       "       [ 6,  7,  8],\n",
       "       [ 3,  4,  5],\n",
       "       [ 0,  1,  2]])"
      ]
     },
     "execution_count": 23,
     "metadata": {},
     "output_type": "execute_result"
    }
   ],
   "source": [
    "np.flipud(a1)#flip the matrix along up down direction axis=0"
   ]
  },
  {
   "cell_type": "markdown",
   "id": "8021983c",
   "metadata": {},
   "source": [
    "USING NUMPY TO EXTRACT ALL POSSIBLE DIAGONALS IN ALL DIRECTION\n",
    "[[1, 2, 3],\n",
    "[4, 5, 6],\n",
    "[7, 8, 9]]"
   ]
  },
  {
   "cell_type": "code",
   "execution_count": 24,
   "id": "2978991b",
   "metadata": {},
   "outputs": [
    {
     "data": {
      "text/plain": [
       "array([[1, 2, 3],\n",
       "       [4, 5, 6],\n",
       "       [7, 8, 9]])"
      ]
     },
     "execution_count": 24,
     "metadata": {},
     "output_type": "execute_result"
    }
   ],
   "source": [
    "b = np.arange(1,10).reshape(3,3)\n",
    "b"
   ]
  },
  {
   "cell_type": "code",
   "execution_count": 25,
   "id": "f0044fb1",
   "metadata": {},
   "outputs": [
    {
     "data": {
      "text/plain": [
       "array([1, 5, 9])"
      ]
     },
     "execution_count": 25,
     "metadata": {},
     "output_type": "execute_result"
    }
   ],
   "source": [
    "np.diag(b)"
   ]
  },
  {
   "cell_type": "code",
   "execution_count": 26,
   "id": "82f3ccb3",
   "metadata": {},
   "outputs": [
    {
     "data": {
      "text/plain": [
       "array([7, 5, 3])"
      ]
     },
     "execution_count": 26,
     "metadata": {},
     "output_type": "execute_result"
    }
   ],
   "source": [
    "np.diag(np.flipud(b))"
   ]
  },
  {
   "cell_type": "code",
   "execution_count": 27,
   "id": "6ebddc6f",
   "metadata": {},
   "outputs": [
    {
     "data": {
      "text/plain": [
       "array([3, 5, 7])"
      ]
     },
     "execution_count": 27,
     "metadata": {},
     "output_type": "execute_result"
    }
   ],
   "source": [
    "np.diag(np.fliplr(b))"
   ]
  },
  {
   "cell_type": "code",
   "execution_count": 28,
   "id": "bbd49f50",
   "metadata": {},
   "outputs": [
    {
     "data": {
      "text/plain": [
       "array([9, 5, 1])"
      ]
     },
     "execution_count": 28,
     "metadata": {},
     "output_type": "execute_result"
    }
   ],
   "source": [
    "np.diag(np.flip(b))"
   ]
  },
  {
   "cell_type": "markdown",
   "id": "cc2b3894",
   "metadata": {},
   "source": [
    "--------------------------------------------------------------------------------------------------------------------------------------------------------------"
   ]
  },
  {
   "cell_type": "code",
   "execution_count": 29,
   "id": "7b0daf30",
   "metadata": {},
   "outputs": [
    {
     "data": {
      "text/plain": [
       "array([[0, 1],\n",
       "       [2, 3],\n",
       "       [4, 5],\n",
       "       [6, 7],\n",
       "       [8, 9]])"
      ]
     },
     "execution_count": 29,
     "metadata": {},
     "output_type": "execute_result"
    }
   ],
   "source": [
    "c = np.arange(10).reshape(5,2)\n",
    "c"
   ]
  },
  {
   "cell_type": "code",
   "execution_count": 30,
   "id": "68c73bdd",
   "metadata": {},
   "outputs": [
    {
     "data": {
      "text/plain": [
       "array([[0, 2, 4, 6, 8],\n",
       "       [1, 3, 5, 7, 9]])"
      ]
     },
     "execution_count": 30,
     "metadata": {},
     "output_type": "execute_result"
    }
   ],
   "source": [
    "np.transpose(c)"
   ]
  },
  {
   "cell_type": "code",
   "execution_count": 31,
   "id": "60ba10ac",
   "metadata": {},
   "outputs": [
    {
     "name": "stdout",
     "output_type": "stream",
     "text": [
      "[1 2 3 4 5 6] and [1 2 3 4 5 6]\n"
     ]
    }
   ],
   "source": [
    "c = np.arange(9).reshape(3,3)\n",
    "print(f'{a.flatten()} and {np.ravel(a)}') #negates all dimensions"
   ]
  },
  {
   "cell_type": "markdown",
   "id": "7ddeabc1",
   "metadata": {},
   "source": [
    "## RANDOM GENERATION ##"
   ]
  },
  {
   "cell_type": "code",
   "execution_count": 32,
   "id": "8766275f",
   "metadata": {},
   "outputs": [
    {
     "data": {
      "text/plain": [
       "array([[0.67916442, 0.87143901, 0.59644237],\n",
       "       [0.72476048, 0.58391847, 0.56938948],\n",
       "       [0.69154264, 0.89445026, 0.25806133]])"
      ]
     },
     "execution_count": 32,
     "metadata": {},
     "output_type": "execute_result"
    }
   ],
   "source": [
    "np.random.random((3,3)) #creates a matrix with random float numbers"
   ]
  },
  {
   "cell_type": "code",
   "execution_count": 33,
   "id": "a8d61dc5",
   "metadata": {},
   "outputs": [
    {
     "data": {
      "text/plain": [
       "array([[-4, -5,  2, -3, -4,  4,  4],\n",
       "       [ 0, -2, -5,  0,  4, -4, -5],\n",
       "       [ 0,  1, -5,  1, -2,  4, -1],\n",
       "       [-2,  3, -3, -4, -5,  2,  3],\n",
       "       [ 1,  2, -4, -2, -3, -1,  4],\n",
       "       [ 1, -3, -2,  0,  3,  1,  4]])"
      ]
     },
     "execution_count": 33,
     "metadata": {},
     "output_type": "execute_result"
    }
   ],
   "source": [
    "r = np.random.randint(-5,5,(6,7))\n",
    "r"
   ]
  },
  {
   "cell_type": "code",
   "execution_count": 34,
   "id": "c29bfb95",
   "metadata": {},
   "outputs": [
    {
     "name": "stdout",
     "output_type": "stream",
     "text": [
      "[[8 9 1]\n",
      " [7 7 2]\n",
      " [3 6 6]\n",
      " [6 8 4]]\n",
      "67\n",
      "[1 2 3 4]\n",
      "[3 6 1]\n",
      "[8 9 6]\n",
      "[9 7 6 8]\n",
      "2.4309920243024705\n",
      "5.583333333333333\n",
      "5.909722222222224\n"
     ]
    }
   ],
   "source": [
    "a=np.random.randint(0,10,size=(4,3))\n",
    "print(a)\n",
    "print(np.sum(a))\n",
    "print(np.min(a,axis=1))\n",
    "print(np.min(a,axis=0))\n",
    "print(np.max(a,axis=0))\n",
    "print(np.max(a,axis=1))\n",
    "print(np.std(a))\n",
    "print(np.mean(a))\n",
    "print(np.var(a))"
   ]
  },
  {
   "cell_type": "code",
   "execution_count": 35,
   "id": "456fc8cc",
   "metadata": {},
   "outputs": [
    {
     "name": "stdout",
     "output_type": "stream",
     "text": [
      "5\n"
     ]
    }
   ],
   "source": [
    "print(np.argmax(r))"
   ]
  },
  {
   "cell_type": "code",
   "execution_count": 36,
   "id": "5cb17f2b",
   "metadata": {},
   "outputs": [
    {
     "data": {
      "text/plain": [
       "array([[-0.07803069, -0.06441138, -0.06495955],\n",
       "       [-0.25557804,  0.07608522,  0.05845391],\n",
       "       [-0.05866388,  0.14379936, -0.0486114 ]])"
      ]
     },
     "execution_count": 36,
     "metadata": {},
     "output_type": "execute_result"
    }
   ],
   "source": [
    "np.random.normal(0,0.1,size=(3,3))"
   ]
  },
  {
   "cell_type": "code",
   "execution_count": 37,
   "id": "9d436471",
   "metadata": {},
   "outputs": [
    {
     "name": "stdout",
     "output_type": "stream",
     "text": [
      "Number of heads in 10000 coin tosses: 5076\n"
     ]
    }
   ],
   "source": [
    "# Parameters\n",
    "n = 10000  # number of trials (coin tosses)\n",
    "p = 0.5    # probability of success (getting a head)\n",
    "\n",
    "# Perform the binomial experiment\n",
    "number_of_heads = np.random.binomial(n, p)\n",
    "\n",
    "print(f\"Number of heads in {n} coin tosses: {number_of_heads}\")"
   ]
  },
  {
   "cell_type": "markdown",
   "id": "2fc3779d",
   "metadata": {},
   "source": [
    "------------------------------------------------------------------------"
   ]
  },
  {
   "cell_type": "markdown",
   "id": "25259b90",
   "metadata": {},
   "source": [
    "## MATRIX OPERATIONS\n"
   ]
  },
  {
   "cell_type": "markdown",
   "id": "602a31b8",
   "metadata": {},
   "source": [
    "### concatenation of 2 matrices"
   ]
  },
  {
   "cell_type": "code",
   "execution_count": 38,
   "id": "c5b77e5d",
   "metadata": {},
   "outputs": [
    {
     "name": "stdout",
     "output_type": "stream",
     "text": [
      "[[ 0  1  2 11 12 13]\n",
      " [ 3  4  5 14 15 16]\n",
      " [ 6  7  8 17 18 19]]\n"
     ]
    }
   ],
   "source": [
    "a1 = np.arange(9).reshape(3,3)\n",
    "a2 = np.arange(11,20).reshape(3,3)\n",
    "print(np.concatenate((a1,a2),axis=1)) # adds more columns i.e concatenates along the columns"
   ]
  },
  {
   "cell_type": "code",
   "execution_count": 39,
   "id": "ac9c278e",
   "metadata": {},
   "outputs": [
    {
     "name": "stdout",
     "output_type": "stream",
     "text": [
      "[[ 0  1  2]\n",
      " [ 3  4  5]\n",
      " [ 6  7  8]\n",
      " [11 12 13]\n",
      " [14 15 16]\n",
      " [17 18 19]]\n"
     ]
    }
   ],
   "source": [
    "a1 = np.arange(9).reshape(3,3)\n",
    "a2 = np.arange(11,20).reshape(3,3)\n",
    "print(np.concatenate((a1,a2),axis=0)) # adds more rows i.e concatenates along the rows"
   ]
  },
  {
   "cell_type": "code",
   "execution_count": 40,
   "id": "a145fafa",
   "metadata": {},
   "outputs": [
    {
     "name": "stdout",
     "output_type": "stream",
     "text": [
      "[[ 0  1  2]\n",
      " [ 3  4  5]\n",
      " [ 6  7  8]\n",
      " [11 12 13]\n",
      " [14 15 16]\n",
      " [17 18 19]]\n"
     ]
    }
   ],
   "source": [
    "print(np.vstack((a1,a2))) #takes 1 tuple as argument using 2 arrays same as axis  = 0"
   ]
  },
  {
   "cell_type": "code",
   "execution_count": 41,
   "id": "c9288d35",
   "metadata": {},
   "outputs": [
    {
     "name": "stdout",
     "output_type": "stream",
     "text": [
      "[[ 0  1  2 11 12 13]\n",
      " [ 3  4  5 14 15 16]\n",
      " [ 6  7  8 17 18 19]]\n"
     ]
    }
   ],
   "source": [
    "print(np.hstack((a1,a2))) #same as axis = 1"
   ]
  },
  {
   "cell_type": "markdown",
   "id": "cd3cfdfd",
   "metadata": {},
   "source": [
    "### Trigonometetric functions and log functions"
   ]
  },
  {
   "cell_type": "code",
   "execution_count": 42,
   "id": "1a1a72c8",
   "metadata": {},
   "outputs": [
    {
     "name": "stdout",
     "output_type": "stream",
     "text": [
      "[1.00000000e+00 8.66025404e-01 5.00000000e-01 6.12323400e-17]\n",
      "[0.00000000e+00 5.77350269e-01 1.73205081e+00 1.63312394e+16]\n",
      "[0.        0.5       0.8660254 1.       ]\n",
      "1.0\n",
      "1.0\n",
      "2.302585092994046\n"
     ]
    }
   ],
   "source": [
    "a=np.array([0,30,60,90])\n",
    "print(np.cos(a*np.pi/180))\n",
    "print(np.tan(a*np.pi/180))\n",
    "print(np.sin(a*np.pi/180))\n",
    "print(np.log2(2))\n",
    "print(np.log10(10))\n",
    "print(np.log(10))"
   ]
  },
  {
   "cell_type": "markdown",
   "id": "258c0621",
   "metadata": {},
   "source": [
    "### Spliting and slicing\n"
   ]
  },
  {
   "cell_type": "markdown",
   "id": "b719612e",
   "metadata": {},
   "source": [
    "##### spliting"
   ]
  },
  {
   "cell_type": "code",
   "execution_count": 43,
   "id": "fc5a3fc2",
   "metadata": {},
   "outputs": [
    {
     "data": {
      "text/plain": [
       "array([[ 0,  1,  2,  3,  4,  5],\n",
       "       [ 6,  7,  8,  9, 10, 11],\n",
       "       [12, 13, 14, 15, 16, 17],\n",
       "       [18, 19, 20, 21, 22, 23],\n",
       "       [24, 25, 26, 27, 28, 29]])"
      ]
     },
     "execution_count": 43,
     "metadata": {},
     "output_type": "execute_result"
    }
   ],
   "source": [
    "ar = np.arange(30).reshape(5,6)\n",
    "ar"
   ]
  },
  {
   "cell_type": "code",
   "execution_count": 44,
   "id": "10cb6936",
   "metadata": {},
   "outputs": [
    {
     "data": {
      "text/plain": [
       "[array([[ 0,  1],\n",
       "        [ 6,  7],\n",
       "        [12, 13],\n",
       "        [18, 19],\n",
       "        [24, 25]]),\n",
       " array([[ 2,  3,  4,  5],\n",
       "        [ 8,  9, 10, 11],\n",
       "        [14, 15, 16, 17],\n",
       "        [20, 21, 22, 23],\n",
       "        [26, 27, 28, 29]])]"
      ]
     },
     "execution_count": 44,
     "metadata": {},
     "output_type": "execute_result"
    }
   ],
   "source": [
    "np.split(ar,(2,),axis=1) #splits along the direction of columns"
   ]
  },
  {
   "cell_type": "code",
   "execution_count": 45,
   "id": "b4839029",
   "metadata": {},
   "outputs": [
    {
     "data": {
      "text/plain": [
       "[array([[ 0,  1,  2,  3,  4,  5],\n",
       "        [ 6,  7,  8,  9, 10, 11]]),\n",
       " array([[12, 13, 14, 15, 16, 17],\n",
       "        [18, 19, 20, 21, 22, 23],\n",
       "        [24, 25, 26, 27, 28, 29]])]"
      ]
     },
     "execution_count": 45,
     "metadata": {},
     "output_type": "execute_result"
    }
   ],
   "source": [
    "np.split(ar,(2,)) #split along the direction of rows"
   ]
  },
  {
   "cell_type": "code",
   "execution_count": 46,
   "id": "63c295e2",
   "metadata": {},
   "outputs": [
    {
     "name": "stdout",
     "output_type": "stream",
     "text": [
      "[array([[ 0,  1,  2,  3,  4,  5],\n",
      "       [ 6,  7,  8,  9, 10, 11]]), array([[12, 13, 14, 15, 16, 17],\n",
      "       [18, 19, 20, 21, 22, 23],\n",
      "       [24, 25, 26, 27, 28, 29]])]\n",
      "\n",
      "\n",
      "[array([[ 0,  1],\n",
      "       [ 6,  7],\n",
      "       [12, 13],\n",
      "       [18, 19],\n",
      "       [24, 25]]), array([[ 2,  3,  4,  5],\n",
      "       [ 8,  9, 10, 11],\n",
      "       [14, 15, 16, 17],\n",
      "       [20, 21, 22, 23],\n",
      "       [26, 27, 28, 29]])]\n"
     ]
    }
   ],
   "source": [
    "print(np.vsplit(ar,(2,))) #axis = 0\n",
    "print(\"\\n\")\n",
    "print(np.hsplit(ar,(2,))) #axis = 1"
   ]
  },
  {
   "cell_type": "markdown",
   "id": "bb65a855",
   "metadata": {},
   "source": [
    "##### slicing"
   ]
  },
  {
   "cell_type": "markdown",
   "id": "d682f330",
   "metadata": {},
   "source": [
    "\n",
    "Suppose a numpy array has of dim NXM, \n",
    "we can perfom slicing for each dimension\n",
    "i.e a[row_slice, column_slice]"
   ]
  },
  {
   "cell_type": "code",
   "execution_count": 47,
   "id": "cc2bae65",
   "metadata": {},
   "outputs": [
    {
     "data": {
      "text/plain": [
       "array([[ 0,  1,  2,  3,  4,  5],\n",
       "       [ 6,  7,  8,  9, 10, 11],\n",
       "       [12, 13, 14, 15, 16, 17],\n",
       "       [18, 19, 20, 21, 22, 23],\n",
       "       [24, 25, 26, 27, 28, 29]])"
      ]
     },
     "execution_count": 47,
     "metadata": {},
     "output_type": "execute_result"
    }
   ],
   "source": [
    "ar"
   ]
  },
  {
   "cell_type": "code",
   "execution_count": 48,
   "id": "0811ae92",
   "metadata": {},
   "outputs": [
    {
     "data": {
      "text/plain": [
       "array([[ 8,  9],\n",
       "       [14, 15]])"
      ]
     },
     "execution_count": 48,
     "metadata": {},
     "output_type": "execute_result"
    }
   ],
   "source": [
    "#slice [[8 9][14 15]]\n",
    "ar[1:3,2:4]"
   ]
  },
  {
   "cell_type": "markdown",
   "id": "9f97aee6",
   "metadata": {},
   "source": [
    "[[15, 16, 17],\n",
    "[ 21, 22, 23],\n",
    "[ 27, 28, 29]] splice this portion and find the sum of diagonals"
   ]
  },
  {
   "cell_type": "code",
   "execution_count": 49,
   "id": "1be8d02e",
   "metadata": {},
   "outputs": [
    {
     "data": {
      "text/plain": [
       "array([[15, 16, 17],\n",
       "       [21, 22, 23],\n",
       "       [27, 28, 29]])"
      ]
     },
     "execution_count": 49,
     "metadata": {},
     "output_type": "execute_result"
    }
   ],
   "source": [
    "a3 = ar[2:,3:]\n",
    "a3"
   ]
  },
  {
   "cell_type": "code",
   "execution_count": 50,
   "id": "91f3423a",
   "metadata": {},
   "outputs": [
    {
     "data": {
      "text/plain": [
       "132"
      ]
     },
     "execution_count": 50,
     "metadata": {},
     "output_type": "execute_result"
    }
   ],
   "source": [
    "np.sum(np.diag(np.flipud(a3))+np.diag(a3)) #comprehensive way"
   ]
  },
  {
   "cell_type": "code",
   "execution_count": 52,
   "id": "9b1d8d8f",
   "metadata": {},
   "outputs": [
    {
     "name": "stdout",
     "output_type": "stream",
     "text": [
      "[[15  0  0]\n",
      " [ 0 22  0]\n",
      " [ 0  0 29]]\n",
      "[[ 0  0 17]\n",
      " [ 0 22  0]\n",
      " [27  0  0]]\n",
      "[[15  0 17]\n",
      " [ 0 44  0]\n",
      " [27  0 29]]\n",
      "132\n"
     ]
    }
   ],
   "source": [
    "x=np.diag(a3)\n",
    "y=np.diag(np.flipud(a3))\n",
    "print(np.diag(x))\n",
    "print(np.flipud(np.diag(y)))\n",
    "print(np.flipud(np.diag(y))+np.diag(x))\n",
    "print(np.sum(np.flipud(np.diag(y))+np.diag(x))) #illustrative way\n",
    "\n",
    "#print(np.flipud(np.diag(np.diag(np.flipud(a3))))+np.diag(np.diag(a3)))"
   ]
  },
  {
   "cell_type": "markdown",
   "id": "76fae741",
   "metadata": {},
   "source": [
    "NUMPY ARRAYS CAN BE TREATED AS VARIABLES AND CAN SUPPORT MATHEMATICAL AND LOGICAL OPERATIONS"
   ]
  },
  {
   "cell_type": "code",
   "execution_count": 52,
   "id": "847135ce",
   "metadata": {},
   "outputs": [],
   "source": [
    "a1 = np.arange(1,10).reshape(3,3)\n",
    "a2 = np.arange(21,30).reshape(3,3)"
   ]
  },
  {
   "cell_type": "code",
   "execution_count": 53,
   "id": "612234d0",
   "metadata": {},
   "outputs": [
    {
     "name": "stdout",
     "output_type": "stream",
     "text": [
      "\n",
      " [[1 2 3]\n",
      " [4 5 6]\n",
      " [7 8 9]] \n",
      "\n",
      " [[21 22 23]\n",
      " [24 25 26]\n",
      " [27 28 29]]\n",
      "\n",
      "\n",
      "[[43 46 49]\n",
      " [52 55 58]\n",
      " [61 64 67]]\n",
      "\n",
      "\n",
      "[[ 21  44  69]\n",
      " [ 96 125 156]\n",
      " [189 224 261]]\n",
      "\n",
      "\n",
      "[[0.04761905 0.09090909 0.13043478]\n",
      " [0.16666667 0.2        0.23076923]\n",
      " [0.25925926 0.28571429 0.31034483]]\n",
      "\n",
      "\n",
      "[[150 156 162]\n",
      " [366 381 396]\n",
      " [582 606 630]]\n"
     ]
    }
   ],
   "source": [
    "print(\"\\n\", a1, \"\\n\\n\", a2)\n",
    "print(\"\\n\")\n",
    "print(a1+2*a2)\n",
    "print(\"\\n\")\n",
    "print(a1*a2)\n",
    "print(\"\\n\")\n",
    "print(a1/a2)\n",
    "print(\"\\n\")\n",
    "print(a1.dot(a2)) #matrix multiplication"
   ]
  },
  {
   "cell_type": "code",
   "execution_count": 98,
   "id": "12988828",
   "metadata": {},
   "outputs": [
    {
     "data": {
      "text/plain": [
       "array([[ 1,  1,  4, -3,  3, -3],\n",
       "       [-4, -2,  3,  1, -5, -5],\n",
       "       [-1,  3, -5,  4,  4,  2],\n",
       "       [ 2, -2, -1,  5,  1,  2],\n",
       "       [ 3,  2, -5, -4, -1,  1]])"
      ]
     },
     "execution_count": 98,
     "metadata": {},
     "output_type": "execute_result"
    }
   ],
   "source": [
    "a= np.random.randint(-5,6,(5,6))\n",
    "a"
   ]
  },
  {
   "cell_type": "code",
   "execution_count": 100,
   "id": "9501eb6c",
   "metadata": {},
   "outputs": [
    {
     "name": "stdout",
     "output_type": "stream",
     "text": [
      "[[False False False  True False  True]\n",
      " [ True  True False False  True  True]\n",
      " [ True False  True False False False]\n",
      " [False  True  True False False False]\n",
      " [False False  True  True  True False]]\n",
      "\n",
      "[-3 -3 -4 -2 -5 -5 -1 -5 -2 -1 -5 -4 -1]\n",
      "\n",
      "[4 4 4 2 2 2 2]\n",
      "\n",
      "[ 4  3 -4 -2  3  3  4  4  2  2 -2  5  2  3  2 -4]\n"
     ]
    }
   ],
   "source": [
    "print(a<0)\n",
    "print()\n",
    "print(a[a<0])\n",
    "print()\n",
    "print(a[(a%2==0) & (a>0)])\n",
    "print()\n",
    "print(a[(a%2==0) | ((a>2) & (a%2!=0) )])"
   ]
  }
 ],
 "metadata": {
  "kernelspec": {
   "display_name": "Python 3 (ipykernel)",
   "language": "python",
   "name": "python3"
  },
  "language_info": {
   "codemirror_mode": {
    "name": "ipython",
    "version": 3
   },
   "file_extension": ".py",
   "mimetype": "text/x-python",
   "name": "python",
   "nbconvert_exporter": "python",
   "pygments_lexer": "ipython3",
   "version": "3.12.4"
  }
 },
 "nbformat": 4,
 "nbformat_minor": 5
}

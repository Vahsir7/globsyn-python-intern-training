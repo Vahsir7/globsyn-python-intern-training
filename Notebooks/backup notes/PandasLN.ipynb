{
 "cells": [
  {
   "cell_type": "markdown",
   "id": "5f63d914-bac8-48f0-9fda-a8ab45a29190",
   "metadata": {},
   "source": [
    "# PANDAS PACKAGE"
   ]
  },
  {
   "cell_type": "code",
   "execution_count": 4,
   "id": "e3643cf5-c7e1-41cc-b082-3c5faad26bb0",
   "metadata": {},
   "outputs": [],
   "source": [
    "import numpy as np\n",
    "import pandas as pd"
   ]
  },
  {
   "cell_type": "markdown",
   "id": "55b5a342-cc31-4630-9944-a8f8538247c2",
   "metadata": {},
   "source": [
    "Pandas Series declaration"
   ]
  },
  {
   "cell_type": "code",
   "execution_count": 6,
   "id": "0e494a5a-1e07-46aa-bdf9-68d8b2eb144a",
   "metadata": {},
   "outputs": [
    {
     "data": {
      "text/plain": [
       "0    10\n",
       "1    15\n",
       "2    20\n",
       "3    25\n",
       "dtype: int64"
      ]
     },
     "execution_count": 6,
     "metadata": {},
     "output_type": "execute_result"
    }
   ],
   "source": [
    "a = pd.Series([10,15,20,25])\n",
    "a"
   ]
  },
  {
   "cell_type": "code",
   "execution_count": 7,
   "id": "3ca48044-cbd5-43ad-a978-4670aaae0ff4",
   "metadata": {},
   "outputs": [
    {
     "data": {
      "text/plain": [
       "RangeIndex(start=0, stop=4, step=1)"
      ]
     },
     "execution_count": 7,
     "metadata": {},
     "output_type": "execute_result"
    }
   ],
   "source": [
    "a.index"
   ]
  },
  {
   "cell_type": "code",
   "execution_count": 8,
   "id": "3ff6de4e-8f49-42c2-8d4c-4699845b8a6d",
   "metadata": {},
   "outputs": [
    {
     "data": {
      "text/plain": [
       "array([10, 15, 20, 25], dtype=int64)"
      ]
     },
     "execution_count": 8,
     "metadata": {},
     "output_type": "execute_result"
    }
   ],
   "source": [
    "a.values"
   ]
  },
  {
   "cell_type": "markdown",
   "id": "4cf86f64-1ea4-4e6f-ae2c-7f683acb3188",
   "metadata": {},
   "source": [
    "To edit the index"
   ]
  },
  {
   "cell_type": "code",
   "execution_count": 10,
   "id": "0ec7747a-fe24-4dd5-90dd-4b9272365992",
   "metadata": {},
   "outputs": [
    {
     "data": {
      "text/plain": [
       "A    10\n",
       "B    15\n",
       "C    20\n",
       "D    25\n",
       "dtype: int64"
      ]
     },
     "execution_count": 10,
     "metadata": {},
     "output_type": "execute_result"
    }
   ],
   "source": [
    "a.index = ['A','B','C','D']\n",
    "a"
   ]
  },
  {
   "cell_type": "code",
   "execution_count": 11,
   "id": "fac2ad6e-9f1c-441f-9529-d78d9d6d72c6",
   "metadata": {},
   "outputs": [
    {
     "data": {
      "text/plain": [
       "10"
      ]
     },
     "execution_count": 11,
     "metadata": {},
     "output_type": "execute_result"
    }
   ],
   "source": [
    "a['A']"
   ]
  },
  {
   "cell_type": "code",
   "execution_count": 12,
   "id": "7af6769b-360a-4cc8-b5d4-e42fbd84e533",
   "metadata": {},
   "outputs": [
    {
     "data": {
      "text/plain": [
       "C    20\n",
       "D    25\n",
       "dtype: int64"
      ]
     },
     "execution_count": 12,
     "metadata": {},
     "output_type": "execute_result"
    }
   ],
   "source": [
    "a[a>15]\n",
    "#a[condition] to print the specific data from the series which satisfies the condition"
   ]
  },
  {
   "cell_type": "code",
   "execution_count": 13,
   "id": "9f321d43-f0b0-41fe-a7e4-7df90e1a3fd2",
   "metadata": {},
   "outputs": [
    {
     "data": {
      "text/plain": [
       "A    120\n",
       "B    180\n",
       "C    240\n",
       "D    300\n",
       "dtype: int64"
      ]
     },
     "execution_count": 13,
     "metadata": {},
     "output_type": "execute_result"
    }
   ],
   "source": [
    "b = a*12 #pandas series values can support mathematical calculations as well\n",
    "b"
   ]
  },
  {
   "cell_type": "code",
   "execution_count": 14,
   "id": "006cf35d-2ee2-461d-8f17-47155683bd07",
   "metadata": {},
   "outputs": [
    {
     "data": {
      "text/plain": [
       "(4,)"
      ]
     },
     "execution_count": 14,
     "metadata": {},
     "output_type": "execute_result"
    }
   ],
   "source": [
    "a.shape"
   ]
  },
  {
   "cell_type": "code",
   "execution_count": 24,
   "id": "7e282e48-19fb-4775-b6cc-ec9843bccbef",
   "metadata": {},
   "outputs": [
    {
     "data": {
      "text/plain": [
       "pandas.core.series.Series"
      ]
     },
     "execution_count": 24,
     "metadata": {},
     "output_type": "execute_result"
    }
   ],
   "source": [
    "type(a)"
   ]
  }
 ],
 "metadata": {
  "kernelspec": {
   "display_name": "Python 3 (ipykernel)",
   "language": "python",
   "name": "python3"
  },
  "language_info": {
   "codemirror_mode": {
    "name": "ipython",
    "version": 3
   },
   "file_extension": ".py",
   "mimetype": "text/x-python",
   "name": "python",
   "nbconvert_exporter": "python",
   "pygments_lexer": "ipython3",
   "version": "3.12.4"
  }
 },
 "nbformat": 4,
 "nbformat_minor": 5
}

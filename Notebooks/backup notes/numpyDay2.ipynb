{
 "cells": [
  {
   "cell_type": "code",
   "execution_count": 1,
   "id": "74b78564-fc23-4487-a335-59edcaa16b84",
   "metadata": {},
   "outputs": [],
   "source": [
    "import numpy as np"
   ]
  },
  {
   "cell_type": "markdown",
   "id": "5434bfcb-e0ac-4d8c-b849-a497203d7c72",
   "metadata": {},
   "source": [
    "1. Create an array of zeros with shape (5, 6) and datatype int64"
   ]
  },
  {
   "cell_type": "code",
   "execution_count": 2,
   "id": "27263f68-6719-432f-9b57-7ab0e2923c2b",
   "metadata": {},
   "outputs": [
    {
     "name": "stdout",
     "output_type": "stream",
     "text": [
      "\n",
      "Array a1:\n",
      " [[0 0 0 0 0 0]\n",
      " [0 0 0 0 0 0]\n",
      " [0 0 0 0 0 0]\n",
      " [0 0 0 0 0 0]\n",
      " [0 0 0 0 0 0]]\n"
     ]
    }
   ],
   "source": [
    "a1 = np.zeros((5, 6), dtype='int64')\n",
    "print(\"\\nArray a1:\\n\", a1)"
   ]
  },
  {
   "cell_type": "markdown",
   "id": "904e3cc3-4ad2-44b5-8d73-b28b0e2ea634",
   "metadata": {},
   "source": [
    "2. Create an array of ones with shape (2, 3)"
   ]
  },
  {
   "cell_type": "code",
   "execution_count": 3,
   "id": "a3bbb09e-41a4-4871-966b-a1d5fbe0ad2f",
   "metadata": {},
   "outputs": [
    {
     "name": "stdout",
     "output_type": "stream",
     "text": [
      "\n",
      "Array a2:\n",
      " [[1. 1. 1.]\n",
      " [1. 1. 1.]]\n"
     ]
    }
   ],
   "source": [
    "a2 = np.ones((2, 3))\n",
    "print(\"\\nArray a2:\\n\", a2)"
   ]
  },
  {
   "cell_type": "markdown",
   "id": "06cb346d-9f3c-4a6c-9c3b-fdf379854392",
   "metadata": {},
   "source": [
    "3. Create an array with shape (4, 5) and fill it with the value 13"
   ]
  },
  {
   "cell_type": "code",
   "execution_count": 4,
   "id": "e464fee5-812e-4d43-b7ad-9f015ea5d8c2",
   "metadata": {},
   "outputs": [
    {
     "name": "stdout",
     "output_type": "stream",
     "text": [
      "\n",
      "Array a3:\n",
      " [[13 13 13 13 13]\n",
      " [13 13 13 13 13]\n",
      " [13 13 13 13 13]\n",
      " [13 13 13 13 13]]\n"
     ]
    }
   ],
   "source": [
    "a3 = np.full((4, 5), fill_value=13)\n",
    "print(\"\\nArray a3:\\n\", a3)"
   ]
  },
  {
   "cell_type": "markdown",
   "id": "d4f75ace-3007-42fb-aaa8-93e10ca78686",
   "metadata": {},
   "source": [
    "Creates a empty value with garbage values"
   ]
  },
  {
   "cell_type": "code",
   "execution_count": 5,
   "id": "39a0294e-96a1-4443-baa8-70fbe1abd798",
   "metadata": {},
   "outputs": [
    {
     "name": "stdout",
     "output_type": "stream",
     "text": [
      "Empty a4:\n",
      " [[1.21146438e-316 0.00000000e+000 2.35525473e-315 0.00000000e+000\n",
      "  1.07034138e-296]\n",
      " [2.10966031e-321 1.65430819e-310 3.14509217e-234 0.00000000e+000\n",
      "  3.59383351e-320]\n",
      " [0.00000000e+000 1.26035873e-300 1.39067116e-309 8.39461648e-311\n",
      "  8.40980319e-172]\n",
      " [0.00000000e+000 0.00000000e+000 9.06112796e-312 2.04706931e-306\n",
      "  7.95751304e-312]]\n"
     ]
    }
   ],
   "source": [
    "a4=np.empty((4,5))\n",
    "print(\"Empty a4:\\n\", a4)"
   ]
  },
  {
   "cell_type": "markdown",
   "id": "dcb916fe-08ba-46a5-8261-fd4c93646d04",
   "metadata": {},
   "source": [
    "Prints a indenty matix with default value float 1."
   ]
  },
  {
   "cell_type": "code",
   "execution_count": 6,
   "id": "e29c51ba-a800-4400-bb15-9712d02d4ccb",
   "metadata": {},
   "outputs": [
    {
     "name": "stdout",
     "output_type": "stream",
     "text": [
      "\n",
      "Indentity matrix\n",
      " [[1. 0. 0. 0.]\n",
      " [0. 1. 0. 0.]\n",
      " [0. 0. 1. 0.]\n",
      " [0. 0. 0. 1.]]\n",
      "\n",
      "Rectangular indentity matrix\n",
      " [[1. 0.]\n",
      " [0. 1.]\n",
      " [0. 0.]\n",
      " [0. 0.]]\n"
     ]
    }
   ],
   "source": [
    "a5=np.eye(4)\n",
    "print(\"\\nIndentity matrix\\n\",a5)\n",
    "\n",
    "\n",
    "a5=np.eye(4,2)\n",
    "print(\"\\nRectangular indentity matrix\\n\",a5)"
   ]
  },
  {
   "cell_type": "markdown",
   "id": "28e05f26-e904-424b-8fa5-db812e464dc3",
   "metadata": {},
   "source": [
    "diag prints the diagonal values in a array \n",
    "- <0 lower diagonal of main diag\n",
    "- \\>0 upper diagonal of main diag\n",
    "- 0 default value"
   ]
  },
  {
   "cell_type": "code",
   "execution_count": 7,
   "id": "b8781abd-7e02-48f0-aab4-e51420def3f8",
   "metadata": {},
   "outputs": [
    {
     "name": "stdout",
     "output_type": "stream",
     "text": [
      "\n",
      "Test\n",
      " [[0 1]\n",
      " [2 3]\n",
      " [4 5]]\n",
      "\n",
      "diag of test:\n",
      "[0 3]\n",
      "\n",
      "upper diag of test:\n",
      "[2 5]\n",
      "\n",
      "Lower diag of test:\n",
      "[1]\n"
     ]
    }
   ],
   "source": [
    "test=np.arange(6).reshape(3,2)\n",
    "print(\"\\nTest\\n\",test)\n",
    "\n",
    "a6=np.diag(test)\n",
    "print(\"\\ndiag of test:\")\n",
    "print(a6)\n",
    "\n",
    "a6=np.diag(test,-1)\n",
    "print(\"\\nupper diag of test:\")\n",
    "print(a6)\n",
    "\n",
    "a6=np.diag(test,1)\n",
    "print(\"\\nLower diag of test:\")\n",
    "print(a6)"
   ]
  },
  {
   "cell_type": "markdown",
   "id": "15489531-12f3-4ba5-837e-b1a0f53bd72c",
   "metadata": {},
   "source": [
    "flipup flips the array upside down\n",
    "fliplr flips the array left to right"
   ]
  },
  {
   "cell_type": "code",
   "execution_count": 8,
   "id": "f3b6aa1f-d2c9-4375-9de4-9a047dff6fec",
   "metadata": {
    "scrolled": true
   },
   "outputs": [
    {
     "name": "stdout",
     "output_type": "stream",
     "text": [
      "\n",
      "flip up of test\n",
      "[[4 5]\n",
      " [2 3]\n",
      " [0 1]]\n",
      "\n",
      "flip left right of test\n",
      "[[1 0]\n",
      " [3 2]\n",
      " [5 4]]\n",
      "\n",
      "Right diagonal\n",
      "[0. 0.]\n"
     ]
    }
   ],
   "source": [
    "a7=np.flipud(test)\n",
    "print(\"\\nflip up of test\")\n",
    "print(a7)\n",
    "\n",
    "a8=np.fliplr(test)\n",
    "print(\"\\nflip left right of test\")\n",
    "print(a8)\n",
    "\n",
    "a9=np.diag(np.fliplr(np.eye(2)))\n",
    "print(\"\\nRight diagonal\")\n",
    "print(a9)"
   ]
  },
  {
   "cell_type": "markdown",
   "id": "9e76fdf2-3a63-4043-b38b-eb5c2753726b",
   "metadata": {},
   "source": [
    "axis=0 means we are taking in account of each indivdual rows\n",
    "> [[r1],[r2],...[rn]] => [[rn],[r(n-1)],....[r1]]\n",
    "\n",
    "axis=1 means we are taking in account of each individual colums\n",
    "> [c1,c2,...cn] => [[cn],[c(n-1)],...[c1]]"
   ]
  },
  {
   "cell_type": "code",
   "execution_count": 9,
   "id": "b9a2dd5f-fca2-411f-a3fa-7a947c66b77a",
   "metadata": {},
   "outputs": [
    {
     "name": "stdout",
     "output_type": "stream",
     "text": [
      "\n",
      "test [[ 1  2  3]\n",
      " [ 4  5  6]\n",
      " [ 7  8  9]\n",
      " [10 11 12]]\n",
      "\n",
      "flip axis 0 [[10 11 12]\n",
      " [ 7  8  9]\n",
      " [ 4  5  6]\n",
      " [ 1  2  3]]\n",
      "\n",
      "flip axis 1 [[ 3  2  1]\n",
      " [ 6  5  4]\n",
      " [ 9  8  7]\n",
      " [12 11 10]]\n",
      "\n",
      "transpose [[ 1  4  7 10]\n",
      " [ 2  5  8 11]\n",
      " [ 3  6  9 12]]\n"
     ]
    }
   ],
   "source": [
    "test2=np.arange(1,13).reshape(4,3)\n",
    "print(\"\\ntest\",test2)\n",
    "\n",
    "a10=np.flip(test2,axis=0)\n",
    "print(\"\\nflip axis 0\",a10)\n",
    "\n",
    "a11=np.flip(test2,axis=1)\n",
    "print(\"\\nflip axis 1\",a11)\n",
    "\n",
    "a12=np.transpose(test2)\n",
    "print(\"\\ntranspose\",a12)"
   ]
  },
  {
   "cell_type": "markdown",
   "id": "b912403c-7540-4af1-b57a-1ec9459698a3",
   "metadata": {},
   "source": [
    "Reshape array"
   ]
  },
  {
   "cell_type": "code",
   "execution_count": 10,
   "id": "2fecf696-faf8-45fa-b1ad-991edb3af20f",
   "metadata": {},
   "outputs": [],
   "source": [
    "#a13=test.reshape("
   ]
  },
  {
   "cell_type": "markdown",
   "id": "223b1b9e-dde6-4d73-a023-c4ec6a7343ac",
   "metadata": {},
   "source": [
    "if we give arr.reshape(dim,negative value) then the other dimension will be autocomputed by numpy"
   ]
  },
  {
   "cell_type": "code",
   "execution_count": 11,
   "id": "a18ec57f-457d-46ba-adbf-4f945f3fcd0d",
   "metadata": {},
   "outputs": [
    {
     "name": "stdout",
     "output_type": "stream",
     "text": [
      "\n",
      " arrays:\n",
      " [[ 1  2  3  4  5  6]\n",
      " [ 7  8  9 10 11 12]] \n",
      " [[ 1]\n",
      " [ 2]\n",
      " [ 3]\n",
      " [ 4]\n",
      " [ 5]\n",
      " [ 6]\n",
      " [ 7]\n",
      " [ 8]\n",
      " [ 9]\n",
      " [10]\n",
      " [11]\n",
      " [12]]\n"
     ]
    }
   ],
   "source": [
    "print(\"\\n arrays:\\n\",test2.reshape(2,-1),\"\\n\",test2.reshape(12,-1))"
   ]
  },
  {
   "cell_type": "code",
   "execution_count": 12,
   "id": "3077b74d-71b8-49cb-8ae3-d5ae1b1a69d1",
   "metadata": {},
   "outputs": [
    {
     "name": "stdout",
     "output_type": "stream",
     "text": [
      "\n",
      " arrays:\n",
      " [[ 1  2]\n",
      " [ 3  4]\n",
      " [ 5  6]\n",
      " [ 7  8]\n",
      " [ 9 10]\n",
      " [11 12]] \n",
      " [[ 1  2  3  4  5  6  7  8  9 10 11 12]]\n"
     ]
    }
   ],
   "source": [
    "print(\"\\n arrays:\\n\",test2.reshape(-1,2),\"\\n\",test2.reshape(-1,12))"
   ]
  },
  {
   "cell_type": "markdown",
   "id": "1ea4a7e9-34be-49dd-ab68-66431618bc30",
   "metadata": {},
   "source": [
    "To flatten the matrix into one vector \n",
    "- reshape changes the original array with \n",
    "- ravel is a function that returns a view of the orignal \n",
    "- changes the orignal array"
   ]
  },
  {
   "cell_type": "code",
   "execution_count": 13,
   "id": "78793cb7-eb70-4fc6-be17-baa4a6dff567",
   "metadata": {},
   "outputs": [
    {
     "name": "stdout",
     "output_type": "stream",
     "text": [
      "[ 1  2  3  4  5  6  7  8  9 10 11 12]\n",
      "[ 1  2  3  4  5  6  7  8  9 10 11 12]\n",
      "[ 1  2  3  4  5  6  7  8  9 10 11 12]\n"
     ]
    }
   ],
   "source": [
    "print(test2.reshape(12,))\n",
    "print(np.ravel(test2))\n",
    "print(test2.flatten())"
   ]
  },
  {
   "cell_type": "markdown",
   "id": "e65a352d",
   "metadata": {},
   "source": [
    "linspace : it arranges a range of array into equidistant elements\n",
    "- start stop step are the values\n",
    "- endpoint denotes if the endpoint is inclusive or not\n",
    "- restep will display the gap between all elements"
   ]
  },
  {
   "cell_type": "code",
   "execution_count": 14,
   "id": "2de6762e",
   "metadata": {},
   "outputs": [
    {
     "name": "stdout",
     "output_type": "stream",
     "text": [
      "[ 0.   2.5  5.   7.5 10. ]\n",
      "[0. 2. 4. 6. 8.]\n",
      "(array([ 0. ,  2.5,  5. ,  7.5, 10. ]), 2.5)\n",
      "(array([5.  , 3.75, 2.5 , 1.25, 0.  ]), -1.25)\n",
      "Big array\n",
      "(array([0.00000000e+00, 5.00050005e-04, 1.00010001e-03, ...,\n",
      "       4.99899990e+00, 4.99949995e+00, 5.00000000e+00]), 0.0005000500050005)\n"
     ]
    }
   ],
   "source": [
    "print(np.linspace(0,10,5))\n",
    "print(np.linspace(0,10,5,endpoint=False))\n",
    "print(np.linspace(0,10,5,retstep=True))\n",
    "print(np.linspace(5,0,5,retstep=True))\n",
    "\n",
    "print(\"Big array\")\n",
    "print(np.linspace(0,5,10000,retstep=True))  #will not display all elements"
   ]
  },
  {
   "cell_type": "markdown",
   "id": "a7e4e5b8",
   "metadata": {},
   "source": [
    "Random Function :<br>\n",
    "probability mass function - discrete function<br>\n",
    "probability density function - continous function<br>"
   ]
  },
  {
   "cell_type": "code",
   "execution_count": 15,
   "id": "d8b868fe",
   "metadata": {},
   "outputs": [
    {
     "name": "stdout",
     "output_type": "stream",
     "text": [
      "1\n",
      "[[0.25558207 0.56622673 0.82979286]\n",
      " [0.74474967 0.88041581 0.67748994]]\n",
      "[[[0.57312115 0.2770213  0.50425875 0.52686567]\n",
      "  [0.79802339 0.71256739 0.15996282 0.79294026]\n",
      "  [0.06536791 0.60716089 0.82927914 0.7169688 ]]\n",
      "\n",
      " [[0.90540307 0.80616835 0.27444051 0.28737497]\n",
      "  [0.26235661 0.39340622 0.63597678 0.02627271]\n",
      "  [0.96655264 0.18856446 0.09856326 0.1749833 ]]]\n"
     ]
    }
   ],
   "source": [
    "print(int(np.random.random()*10))\n",
    "print(np.random.random((2,3)))\n",
    "print(np.random.random((2,3,4)))"
   ]
  },
  {
   "cell_type": "markdown",
   "id": "f57ef5ec",
   "metadata": {},
   "source": [
    "#### Binomial distribution and Normal distribution of array \n",
    "**Binomial** : \n",
    "- takes n:trials\n",
    "- takes p success rate\n",
    "- take the no of occurence\n",
    "\n",
    "**Normal**\n",
    "- loc (centreness)\n",
    "- scale (std)\n",
    "- size of result\n"
   ]
  },
  {
   "cell_type": "code",
   "execution_count": 16,
   "id": "2650de35",
   "metadata": {},
   "outputs": [
    {
     "name": "stdout",
     "output_type": "stream",
     "text": [
      "4946\n",
      "[ 16.16103631  -4.90862802  -4.70221722   4.22860826   0.87901083\n",
      " -10.58590278   2.85223613   9.79112787  -0.43501775  -2.35693732]\n",
      "[7 1 5 3 7 3 9 8 6 4]\n",
      "[[0 2 8]\n",
      " [5 2 3]]\n"
     ]
    }
   ],
   "source": [
    "a=np.random.binomial(10000,0.5)\n",
    "print(a)\n",
    "\n",
    "b=np.random.normal(0,10,10)\n",
    "print(b)\n",
    "\n",
    "print(np.random.randint(0,10,10))\n",
    "print(np.random.randint(0,10,(2,3)))"
   ]
  },
  {
   "cell_type": "markdown",
   "id": "fa061b55",
   "metadata": {},
   "source": [
    "Row and column wise array elements operations"
   ]
  },
  {
   "cell_type": "code",
   "execution_count": 17,
   "id": "3fc64e7d",
   "metadata": {},
   "outputs": [
    {
     "name": "stdout",
     "output_type": "stream",
     "text": [
      "[[3 4 1]\n",
      " [1 4 4]]\n",
      "\n",
      "min : 1\n",
      "row min : [1 1]\n",
      "col min : [1 4 1]\n",
      "\n",
      "max : 4\n",
      "row max : [4 4]\n",
      "col max : [3 4 4]\n",
      "\n",
      "mean : 2.8333333333333335\n",
      "row mean : [2.66666667 3.        ]\n",
      "col mean : [2.  4.  2.5]\n",
      "\n",
      "std : 1.3437096247164249\n",
      "row std : [1.24721913 1.41421356]\n",
      "col std : [1.  0.  1.5]\n",
      "\n",
      "sum : 17\n",
      "row sum : [8 9]\n",
      "col sum : [4 8 5]\n"
     ]
    }
   ],
   "source": [
    "a=(np.random.randint(0,10,(2,3)))\n",
    "print(a)\n",
    "print(\"\\nmin :\",np.min(a))\n",
    "print(\"row min :\",np.min(a,axis=1)) #row wise\n",
    "print(\"col min :\",np.min(a,axis=0)) #column wise\n",
    "\n",
    "print(\"\\nmax :\",np.max(a))\n",
    "print(\"row max :\",np.max(a,axis=1))\n",
    "print(\"col max :\",np.max(a,axis=0))\n",
    "\n",
    "print(\"\\nmean :\",np.mean(a))\n",
    "print(\"row mean :\",np.mean(a,axis=1))\n",
    "print(\"col mean :\",np.mean(a,axis=0))\n",
    "\n",
    "print(\"\\nstd :\",np.std(a))\n",
    "print(\"row std :\",np.std(a,axis=1))\n",
    "print(\"col std :\",np.std(a,axis=0))\n",
    "\n",
    "print(\"\\nsum :\",np.sum(a))\n",
    "print(\"row sum :\",np.sum(a,axis=1))\n",
    "print(\"col sum :\",np.sum(a,axis=0))"
   ]
  },
  {
   "cell_type": "code",
   "execution_count": 18,
   "id": "402438c2",
   "metadata": {},
   "outputs": [
    {
     "name": "stdout",
     "output_type": "stream",
     "text": [
      "[[3 4 1]\n",
      " [1 4 4]]\n",
      "1\n",
      "[1 1]\n",
      "[0 0 1]\n"
     ]
    }
   ],
   "source": [
    "print(a)\n",
    "print(np.argmax(a))\n",
    "print(np.argmax(a,axis=1))\n",
    "print(np.argmax(a,axis=0))\n"
   ]
  }
 ],
 "metadata": {
  "kernelspec": {
   "display_name": "Python 3 (ipykernel)",
   "language": "python",
   "name": "python3"
  },
  "language_info": {
   "codemirror_mode": {
    "name": "ipython",
    "version": 3
   },
   "file_extension": ".py",
   "mimetype": "text/x-python",
   "name": "python",
   "nbconvert_exporter": "python",
   "pygments_lexer": "ipython3",
   "version": "3.12.4"
  }
 },
 "nbformat": 4,
 "nbformat_minor": 5
}

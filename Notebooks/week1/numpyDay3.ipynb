{
 "cells": [
  {
   "cell_type": "code",
   "execution_count": 81,
   "metadata": {},
   "outputs": [],
   "source": [
    "import numpy as np\n",
    "a1= np.arange(1, 10).reshape(3, 3)\n",
    "a2= np.arange(41, 50).reshape(3, 3)\n",
    "a3= np.arange(10, 16).reshape(3, 2)\n",
    "a4= np.arange(20, 26).reshape(2, 3)"
   ]
  },
  {
   "cell_type": "markdown",
   "metadata": {},
   "source": [
    "## Concatenation\n",
    "- axis 1 means column will extend means vertical stacking\n",
    "- axis 0 means row will extend means row stacking"
   ]
  },
  {
   "cell_type": "code",
   "execution_count": 82,
   "metadata": {},
   "outputs": [
    {
     "name": "stdout",
     "output_type": "stream",
     "text": [
      "[[1 2 3]\n",
      " [4 5 6]\n",
      " [7 8 9]]\n",
      "[[41 42 43]\n",
      " [44 45 46]\n",
      " [47 48 49]]\n",
      "[[ 1  2  3 41 42 43]\n",
      " [ 4  5  6 44 45 46]\n",
      " [ 7  8  9 47 48 49]]\n",
      "[[ 1  2  3]\n",
      " [ 4  5  6]\n",
      " [ 7  8  9]\n",
      " [41 42 43]\n",
      " [44 45 46]\n",
      " [47 48 49]]\n",
      "\n",
      "\n",
      "[[10 11]\n",
      " [12 13]\n",
      " [14 15]]\n",
      "[[20 21 22]\n",
      " [23 24 25]]\n"
     ]
    }
   ],
   "source": [
    "\n",
    "\n",
    "print(a1)\n",
    "print(a2)\n",
    "print(np.concatenate((a1, a2), axis=1))\n",
    "print(np.concatenate((a1, a2), axis=0))\n",
    "\n",
    "print(\"\\n\")\n",
    "print(a3)\n",
    "print(a4)\n",
    "#all the dimensions must be the same except the dimension along which you are concatenating\n",
    "#print(np.concatenate((a3, a4), axis=1))\n",
    "#print(np.concatenate((a3, a4), axis=0))"
   ]
  },
  {
   "cell_type": "markdown",
   "metadata": {},
   "source": [
    "### Vstack and Hstack\n",
    "The first positonal argument is a tuple of the matrices to be passed hence np.vstack( (tuple of array ), )\n"
   ]
  },
  {
   "cell_type": "code",
   "execution_count": 83,
   "metadata": {},
   "outputs": [
    {
     "name": "stdout",
     "output_type": "stream",
     "text": [
      "Vertical Stack\n",
      "[[ 1  2  3]\n",
      " [ 4  5  6]\n",
      " [ 7  8  9]\n",
      " [41 42 43]\n",
      " [44 45 46]\n",
      " [47 48 49]]\n",
      "\n",
      "Horizontal Stack\n",
      "[[ 1  2  3 41 42 43]\n",
      " [ 4  5  6 44 45 46]\n",
      " [ 7  8  9 47 48 49]]\n"
     ]
    }
   ],
   "source": [
    "print(\"Vertical Stack\")\n",
    "vs=np.vstack((a1, a2))\n",
    "print(vs)\n",
    "\n",
    "print(\"\\nHorizontal Stack\")\n",
    "hs=np.hstack((a1, a2))\n",
    "print(hs)"
   ]
  },
  {
   "cell_type": "markdown",
   "metadata": {},
   "source": [
    "## Split\n",
    "- split\n",
    "- vsplit\n",
    "- hsplit\n",
    "\n",
    "in split the second argument has 2 types\n",
    "- if we give a single value it will divide the array into n sections\n",
    "- if we pass a tuple of values then it will divide it into [0:a]+[a:b]+[c:]...\n"
   ]
  },
  {
   "cell_type": "code",
   "execution_count": 84,
   "metadata": {},
   "outputs": [
    {
     "name": "stdout",
     "output_type": "stream",
     "text": [
      "[[ 1  2  3 41 42 43]\n",
      " [ 4  5  6 44 45 46]\n",
      " [ 7  8  9 47 48 49]]\n",
      "\n",
      " split in 3 sections\n",
      "[array([[1, 2],\n",
      "       [4, 5],\n",
      "       [7, 8]]), array([[ 3, 41],\n",
      "       [ 6, 44],\n",
      "       [ 9, 47]]), array([[42, 43],\n",
      "       [45, 46],\n",
      "       [48, 49]])]\n",
      "\n",
      "\n",
      "split in [0:2]+[2:]\n",
      "[array([[1, 2],\n",
      "       [4, 5],\n",
      "       [7, 8]]), array([[ 3, 41, 42, 43],\n",
      "       [ 6, 44, 45, 46],\n",
      "       [ 9, 47, 48, 49]])]\n",
      "\n",
      "\n",
      "split in [0:2]+[2:6]+[6:]\n",
      "[array([[1, 2],\n",
      "       [4, 5],\n",
      "       [7, 8]]), array([[ 3, 41, 42, 43],\n",
      "       [ 6, 44, 45, 46],\n",
      "       [ 9, 47, 48, 49]]), array([], shape=(3, 0), dtype=int64)]\n"
     ]
    }
   ],
   "source": [
    "print(hs)\n",
    "\n",
    "print(\"\\n split in 3 sections\")\n",
    "print(np.split(hs, 3, axis=1))\n",
    "\n",
    "print(\"\\n\\nsplit in [0:2]+[2:]\")\n",
    "print(np.split(hs,(2,), axis=1))\n",
    "\n",
    "\n",
    "print(\"\\n\\nsplit in [0:2]+[2:6]+[6:]\")\n",
    "print(np.split(hs,(2,6), axis=1))\n",
    "# print(type(sp1), len(sp1))\n",
    "#print(sp1[0])\n",
    "#print(sp1[1])\n",
    "#print(sp1[2])\n",
    "# print(\"\\n\")\n",
    "# np.split(a1, 3, axis=0)\n"
   ]
  },
  {
   "cell_type": "markdown",
   "metadata": {},
   "source": [
    "#### Trigonometetric functions and log functions"
   ]
  },
  {
   "cell_type": "code",
   "execution_count": 85,
   "metadata": {},
   "outputs": [
    {
     "name": "stdout",
     "output_type": "stream",
     "text": [
      "[1.00000000e+00 8.66025404e-01 5.00000000e-01 6.12323400e-17]\n",
      "[0.00000000e+00 5.77350269e-01 1.73205081e+00 1.63312394e+16]\n",
      "[0.        0.5       0.8660254 1.       ]\n",
      "1.0\n",
      "1.0\n",
      "2.302585092994046\n"
     ]
    }
   ],
   "source": [
    "a=np.array([0,30,60,90])\n",
    "print(np.cos(a*np.pi/180))\n",
    "print(np.tan(a*np.pi/180))\n",
    "print(np.sin(a*np.pi/180))\n",
    "print(np.log2(2))\n",
    "print(np.log10(10))\n",
    "print(np.log(10))\n"
   ]
  },
  {
   "cell_type": "markdown",
   "metadata": {},
   "source": [
    "## Numpy Broadcasting\n",
    " \n",
    "Array can be treated as normal variable and can do normal calculation"
   ]
  },
  {
   "cell_type": "code",
   "execution_count": 86,
   "metadata": {},
   "outputs": [
    {
     "name": "stdout",
     "output_type": "stream",
     "text": [
      "\n",
      " [[1 2 3]\n",
      " [4 5 6]\n",
      " [7 8 9]] \n",
      "\n",
      " [[41 42 43]\n",
      " [44 45 46]\n",
      " [47 48 49]]\n",
      "\n",
      "\n",
      "[[ 83  86  89]\n",
      " [ 92  95  98]\n",
      " [101 104 107]]\n",
      "\n",
      "\n",
      "[[ 41  84 129]\n",
      " [176 225 276]\n",
      " [329 384 441]]\n",
      "\n",
      "\n",
      "[[0.02439024 0.04761905 0.06976744]\n",
      " [0.09090909 0.11111111 0.13043478]\n",
      " [0.14893617 0.16666667 0.18367347]]\n",
      "\n",
      "\n",
      "[[ 270  276  282]\n",
      " [ 666  681  696]\n",
      " [1062 1086 1110]]\n"
     ]
    }
   ],
   "source": [
    "print(\"\\n\", a1, \"\\n\\n\", a2)\n",
    "print(\"\\n\")\n",
    "print(a1+2*a2)\n",
    "print(\"\\n\")\n",
    "print(a1*a2)\n",
    "print(\"\\n\")\n",
    "print(a1/a2)\n",
    "print(\"\\n\")\n",
    "print(a1.dot(a2)) #matrix multiplication"
   ]
  },
  {
   "cell_type": "markdown",
   "metadata": {},
   "source": [
    "## Selection\n",
    "Suppose a numpy array has of dim 4x5, \n",
    "we can perfom slicing for each dimension\n",
    "i.e a[row_slice, column_slice]"
   ]
  },
  {
   "cell_type": "code",
   "execution_count": 87,
   "metadata": {},
   "outputs": [
    {
     "name": "stdout",
     "output_type": "stream",
     "text": [
      "[[1 2 3]\n",
      " [4 5 6]\n",
      " [7 8 9]]\n",
      "\n",
      "a1[1:2, 1:2]\n",
      " [[5]]\n",
      "\n",
      "a1[1:, 1:]\n",
      " [[5 6]\n",
      " [8 9]]\n",
      "\n",
      "a1[::-1,::-1]\n",
      " [[9 8 7]\n",
      " [6 5 4]\n",
      " [3 2 1]]\n",
      "\n",
      "a1[::2,::2]\n",
      " [[1 3]\n",
      " [7 9]]\n"
     ]
    }
   ],
   "source": [
    "print(a1)\n",
    "\n",
    "print(\"\\na1[1:2, 1:2]\\n\",a1[1:2, 1:2])\n",
    "print(\"\\na1[1:, 1:]\\n\",a1[1:, 1:])\n",
    "\n",
    "print(\"\\na1[::-1,::-1]\\n\",a1[::-1,::-1])\n",
    "print(\"\\na1[::2,::2]\\n\",a1[::2,::2])\n"
   ]
  },
  {
   "cell_type": "code",
   "execution_count": 89,
   "metadata": {},
   "outputs": [
    {
     "name": "stdout",
     "output_type": "stream",
     "text": [
      "[[ 0 -2 -5 -4  2 -1]\n",
      " [ 3  1  0 -3 -4 -5]\n",
      " [-1 -2 -3 -3  2 -1]\n",
      " [ 1  1  3 -5 -2 -2]]\n"
     ]
    }
   ],
   "source": [
    "a=np.random.randint(-5,5,(4,6))\n",
    "print(a)"
   ]
  },
  {
   "cell_type": "code",
   "execution_count": 100,
   "metadata": {},
   "outputs": [
    {
     "name": "stdout",
     "output_type": "stream",
     "text": [
      "[[False  True  True  True False  True]\n",
      " [False False False  True  True  True]\n",
      " [ True  True  True  True False  True]\n",
      " [False False False  True  True  True]]\n",
      "\n",
      "[-2 -5 -4 -1 -3 -4 -5 -1 -2 -3 -3 -1 -5 -2 -2]\n",
      "\n",
      "[2 2]\n",
      "\n",
      "[ 0 -2 -4  2  3  0 -4 -2  2  3 -2 -2]\n"
     ]
    }
   ],
   "source": [
    "print(a<0)\n",
    "print()\n",
    "print(a[a<0])\n",
    "print()\n",
    "print(a[(a%2==0) & (a>0)])\n",
    "print()\n",
    "print(a[(a%2==0) | ((a>2) & (a%2!=0) )])"
   ]
  }
 ],
 "metadata": {
  "kernelspec": {
   "display_name": "base",
   "language": "python",
   "name": "python3"
  },
  "language_info": {
   "codemirror_mode": {
    "name": "ipython",
    "version": 3
   },
   "file_extension": ".py",
   "mimetype": "text/x-python",
   "name": "python",
   "nbconvert_exporter": "python",
   "pygments_lexer": "ipython3",
   "version": "3.12.4"
  }
 },
 "nbformat": 4,
 "nbformat_minor": 2
}

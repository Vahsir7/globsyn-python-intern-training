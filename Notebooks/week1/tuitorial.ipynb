{
 "cells": [
  {
   "cell_type": "code",
   "execution_count": 3,
   "id": "88b895ca-2d29-4d27-849b-27357825abe9",
   "metadata": {},
   "outputs": [
    {
     "name": "stdout",
     "output_type": "stream",
     "text": [
      "Hello World\n"
     ]
    }
   ],
   "source": [
    "print(\"Hello World\")"
   ]
  },
  {
   "cell_type": "code",
   "execution_count": 5,
   "id": "5e6136b6-2c95-4282-acfc-ac9e6abfb634",
   "metadata": {},
   "outputs": [
    {
     "name": "stdout",
     "output_type": "stream",
     "text": [
      "Focused ctrl+enter\n"
     ]
    }
   ],
   "source": [
    "print(\"Focused ctrl+enter\")"
   ]
  },
  {
   "cell_type": "code",
   "execution_count": 7,
   "id": "79c34744-7097-4fc8-ae9a-44776f8083a3",
   "metadata": {},
   "outputs": [
    {
     "name": "stdout",
     "output_type": "stream",
     "text": [
      "Unfoccused shift+enter\n"
     ]
    }
   ],
   "source": [
    "print(\"unfocused shift+enter\")"
   ]
  },
  {
   "cell_type": "markdown",
   "id": "8c7a5cb9-5c21-4c29-b5ca-0187b1a3b97e",
   "metadata": {},
   "source": [
    "# Heading\n",
    "**bold**<br>\n",
    "*italics*<br>\n",
    "***bold+italics***<br>\n",
    "\n",
    "- list\n",
    "- l2\n",
    "\n",
    "1. list 1\n",
    "2. list 2\n",
    "\n",
    "- "
   ]
  },
  {
   "cell_type": "code",
   "execution_count": null,
   "id": "d9e43c1f-5b65-4e43-a875-c3f30eb54103",
   "metadata": {},
   "outputs": [],
   "source": []
  }
 ],
 "metadata": {
  "kernelspec": {
   "display_name": "Python 3 (ipykernel)",
   "language": "python",
   "name": "python3"
  },
  "language_info": {
   "codemirror_mode": {
    "name": "ipython",
    "version": 3
   },
   "file_extension": ".py",
   "mimetype": "text/x-python",
   "name": "python",
   "nbconvert_exporter": "python",
   "pygments_lexer": "ipython3",
   "version": "3.12.4"
  }
 },
 "nbformat": 4,
 "nbformat_minor": 5
}
